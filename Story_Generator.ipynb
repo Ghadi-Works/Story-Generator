{
  "nbformat": 4,
  "nbformat_minor": 0,
  "metadata": {
    "colab": {
      "provenance": []
    },
    "kernelspec": {
      "name": "python3",
      "display_name": "Python 3"
    },
    "language_info": {
      "name": "python"
    }
  },
  "cells": [
    {
      "cell_type": "markdown",
      "source": [
        "# Python program to generate a story!"
      ],
      "metadata": {
        "id": "xcKXW8i60Ygt"
      }
    },
    {
      "cell_type": "code",
      "source": [
        "import random\n",
        "\n",
        "Sentence_starter = ['About 100 years ago', ' In the 20 BC', 'Once upon a time', 'A few years ago', 'Yesterday', 'Last night', 'A long time ago','On 20th Jan']\n",
        "\n",
        "character = ['a rabbit', 'an elephant', 'a mouse', 'a turtle','a cat',' a man named Jack']\n",
        "\n",
        "residence = ['Barcelona','India', 'Germany', 'Venice', 'England']\n",
        "\n",
        "story_plot = [' was passing by',' was going for a picnic to']\n",
        "\n",
        "place = [' the mountains', ' the garden']\n",
        "\n",
        "happened = ['made a lot of friends.','eats a burger.', 'found a secret key.', 'solved a mystery.', 'wrote a book.']\n",
        "\n",
        "second_character = [' He saw a man', ' He saw a young lady']\n",
        "\n",
        "age = [' who seemed to be in late 20s', ' who seemed very old']\n",
        "\n",
        "goto = ['cinema', 'university','park', 'school', 'laundry']\n",
        "\n",
        "\n",
        "print(random.choice(Sentence_starter) + ', ' + random.choice(character) + ' that lived in '+\n",
        "      random.choice(residence) + random.choice(story_plot) + random.choice(place) +\n",
        "      ' and ' + random.choice(happened) + random.choice(second_character) +\n",
        "      random.choice(age) + ' going to the ' + random.choice(goto))"
      ],
      "metadata": {
        "id": "3UJO0NI0uQeM"
      },
      "execution_count": null,
      "outputs": []
    }
  ]
}